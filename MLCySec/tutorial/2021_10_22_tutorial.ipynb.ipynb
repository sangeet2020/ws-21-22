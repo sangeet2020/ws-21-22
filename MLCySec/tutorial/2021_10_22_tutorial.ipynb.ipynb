{
  "nbformat": 4,
  "nbformat_minor": 0,
  "metadata": {
    "kernelspec": {
      "display_name": "Python 3",
      "language": "python",
      "name": "python3"
    },
    "language_info": {
      "codemirror_mode": {
        "name": "ipython",
        "version": 3
      },
      "file_extension": ".py",
      "mimetype": "text/x-python",
      "name": "python",
      "nbconvert_exporter": "python",
      "pygments_lexer": "ipython3",
      "version": "3.7.9"
    },
    "colab": {
      "name": "2021-10-22-tutorial-ipynb.ipynb",
      "provenance": [],
      "collapsed_sections": [
        "ehDFGpo9XpqF",
        "bMT2bYG3XpqJ",
        "YVuEYJ9rXpqK",
        "Yj-VLEuDXpqL",
        "3Jxwh18qXpqN",
        "7H8oG4W_XpqO",
        "zff-rqbmXpqO",
        "cmoFHzmvXpqP",
        "19O2OodaXpqP",
        "58fhOlL5XpqQ"
      ]
    }
  },
  "cells": [
    {
      "cell_type": "markdown",
      "metadata": {
        "id": "tsbQzpS5Xpp4"
      },
      "source": [
        "# ML in Cybersecurity: Tutorial I\n",
        "\n",
        "Contents in this tutorial\n",
        "  1. Jupyter\n",
        "  1. Python\n",
        "  1. Numpy\n",
        "  1. Pandas\n",
        "  1. Matplotlib\n",
        "\n",
        "The content in this notebook is a compilation of many amazing existing tutorials. References below:\n",
        "  - http://cs231n.github.io/python-numpy-tutorial/   ($\\leftarrow$ Justin Johnson's tutorial, an important reference)\n",
        "  - https://github.com/kuleshov/cs228-material/blob/master/tutorials/python/cs228-python-tutorial.ipynb (Exhaustive version of this tutorial)\n",
        "  - https://docs.scipy.org/doc/numpy-1.15.1/user/quickstart.html\n",
        "  - https://www.dataquest.io/blog/jupyter-notebook-tutorial/\n",
        "  - https://github.com/jupyter/jupyter/wiki#statistics-machine-learning-and-data-science\n",
        "  - https://pandas.pydata.org/pandas-docs/stable/user_guide/10min.html\n",
        "\n",
        "Great Python cheat sheet:\n",
        "  - https://gto76.github.io/python-cheatsheet/\n",
        "\n",
        "Course web-page: https://cms.cispa.saarland/mlcysecws2122/\n",
        "\n",
        "Author: Tribhuvanesh Orekondy, Tobias Lorenz"
      ]
    },
    {
      "cell_type": "markdown",
      "metadata": {
        "id": "UK1PBHdJXpp8"
      },
      "source": [
        "### Header\n",
        "\n",
        "This is a block that will probably remain common in all your notebooks. It imports the necessary packages and provides some additional conveniences. For instance, `%matplotlib inline` allows plotting graphs within the notebook and `%autoreload` allows you to install packages and use them immediately (without having to restart the notebook kernel)."
      ]
    },
    {
      "cell_type": "code",
      "metadata": {
        "id": "enGMqFQYXpp9",
        "colab": {
          "base_uri": "https://localhost:8080/"
        },
        "outputId": "2cfc1f1f-03c4-4420-f528-ebaf42debd42"
      },
      "source": [
        "import time \n",
        " \n",
        "import numpy as np \n",
        "import matplotlib.pyplot as plt \n",
        "\n",
        "import json \n",
        "import time \n",
        "import pickle \n",
        "import sys \n",
        "import csv \n",
        "import os \n",
        "import os.path as osp \n",
        "import shutil \n",
        "\n",
        "import pandas as pd\n",
        "\n",
        "from IPython.display import display, HTML\n",
        " \n",
        "%matplotlib inline \n",
        "plt.rcParams['figure.figsize'] = (10.0, 8.0) # set default size of plots \n",
        "plt.rcParams['image.interpolation'] = 'nearest' \n",
        "plt.rcParams['image.cmap'] = 'gray' \n",
        " \n",
        "# for auto-reloading external modules \n",
        "# see http://stackoverflow.com/questions/1907993/autoreload-of-modules-in-ipython \n",
        "%load_ext autoreload\n",
        "%autoreload 2 "
      ],
      "execution_count": 42,
      "outputs": [
        {
          "output_type": "stream",
          "name": "stdout",
          "text": [
            "The autoreload extension is already loaded. To reload it, use:\n",
            "  %reload_ext autoreload\n"
          ]
        }
      ]
    },
    {
      "cell_type": "markdown",
      "metadata": {
        "id": "BQyVfW1qXpp-"
      },
      "source": [
        "___"
      ]
    },
    {
      "cell_type": "markdown",
      "metadata": {
        "id": "D6OJmxHyXpp_"
      },
      "source": [
        "# Jupyter\n",
        "\n",
        "Two main ingredients in a notebook are:\n",
        "  1. **cells**: A container for code or text (e.g., this is written within a markdown cell)\n",
        "  1. **kernels**: The \"computational engine\" which executes code blocks of the notebook"
      ]
    },
    {
      "cell_type": "markdown",
      "metadata": {
        "id": "JwFFBJvVXpp_"
      },
      "source": [
        "### Cells\n",
        "\n",
        "Cells can contain either **code** or **markdown**\n",
        "\n",
        "Check out keyboard shortcuts via `Cmd/Ctrl + Shift + P`.\n",
        "\n",
        "Few important ones:\n",
        " * `Shift + Enter`: Executes the current cell and moves to the next\n",
        " * `Esc`: Enter vim-like command mode. Allows you to navigate cells via up/down arrow keys.\n",
        " * `Tab`: Autocompletes\n",
        " * `Shift + Tab`: Brings up documentation. Try this after entering `np.ones(`"
      ]
    },
    {
      "cell_type": "code",
      "metadata": {
        "id": "J7W-Pv--XpqA",
        "colab": {
          "base_uri": "https://localhost:8080/"
        },
        "outputId": "dc31fd4e-96f6-4701-af3d-2a7a324e8dac"
      },
      "source": [
        "def say_hello():\n",
        "    print('This is a code cell')\n",
        "\n",
        "say_hello()"
      ],
      "execution_count": 43,
      "outputs": [
        {
          "output_type": "stream",
          "name": "stdout",
          "text": [
            "This is a code cell\n"
          ]
        }
      ]
    },
    {
      "cell_type": "code",
      "metadata": {
        "id": "VfpdKv2Qg2ol",
        "colab": {
          "base_uri": "https://localhost:8080/"
        },
        "outputId": "a3530ebb-6891-4519-8534-2aed22156c9c"
      },
      "source": [
        "import sys\n",
        "print(\"Python version\")\n",
        "print (sys.version)\n",
        "print(\"Version info.\")\n",
        "print (sys.version_info)"
      ],
      "execution_count": 44,
      "outputs": [
        {
          "output_type": "stream",
          "name": "stdout",
          "text": [
            "Python version\n",
            "3.7.12 (default, Sep 10 2021, 00:21:48) \n",
            "[GCC 7.5.0]\n",
            "Version info.\n",
            "sys.version_info(major=3, minor=7, micro=12, releaselevel='final', serial=0)\n"
          ]
        }
      ]
    },
    {
      "cell_type": "markdown",
      "metadata": {
        "id": "bD01mqM-XpqB"
      },
      "source": [
        "\n",
        "or it can be a **markdown** cell, like this one.\n",
        "\n",
        "If you're unfamiliar with Markdown syntax, check our this [cheat sheet](https://www.markdownguide.org/cheat-sheet).\n",
        "\n",
        "Some things you can do with Markdown:\n",
        "\n",
        "## This is a level 2 heading\n",
        "### This is a level 3 heading\n",
        "\n",
        "**Syntax**\n",
        "\n",
        "This is some plain text that forms a paragraph.\n",
        "Add emphasis via **bold** and __bold__, or *italic* and _italic_.\n",
        "\n",
        "Paragraphs must be separated by an empty line."
      ]
    },
    {
      "cell_type": "markdown",
      "metadata": {
        "id": "6yn01wLqXpqC"
      },
      "source": [
        "**Lists**\n",
        "\n",
        "* Sometimes we want to include lists.\n",
        " * Which can be indented.   \n",
        "\n",
        "\n",
        " 1. Lists can also be numbered.\n",
        " 2. For ordered lists.\n",
        "\n",
        "[It is possible to include hyperlinks](https://www.example.com)"
      ]
    },
    {
      "cell_type": "markdown",
      "metadata": {
        "id": "HIq_nPXYXpqD"
      },
      "source": [
        "**Code blocks**\n",
        "\n",
        "Inline code uses single backticks: `foo()`, and code blocks use triple backticks:\n",
        "\n",
        "```\n",
        "bar()\n",
        "```\n",
        "\n",
        "Or can be intented by 4 spaces:\n",
        "\n",
        "    foo()"
      ]
    },
    {
      "cell_type": "markdown",
      "metadata": {
        "id": "h6LpG2vAXpqD"
      },
      "source": [
        "**Latex Code**\n",
        "\n",
        "$y=x^2$\n",
        "\n",
        "$e^{i/pi} + 1 = 0$\n",
        "\n",
        "$e^x=\\sum_{i=0}^\\infty \\frac{1}{i!}x^i$\n",
        "\n",
        "$\\frac{n!}{k!(n-k)!} = {n \\choose k}$\n",
        "\n",
        "$A_{m,n} =\n",
        " \\begin{pmatrix}\n",
        "  a_{1,1} & a_{1,2} & \\cdots & a_{1,n} \\\\\n",
        "  a_{2,1} & a_{2,2} & \\cdots & a_{2,n} \\\\\n",
        "  \\vdots  & \\vdots  & \\ddots & \\vdots  \\\\\n",
        "  a_{m,1} & a_{m,2} & \\cdots & a_{m,n}\n",
        " \\end{pmatrix}$"
      ]
    },
    {
      "cell_type": "markdown",
      "metadata": {
        "id": "U9EdihUyXpqE"
      },
      "source": [
        "**Tables**\n",
        "\n",
        "```\n",
        "First column name | Second column name\n",
        "--- | ---\n",
        "Row 1, Col 1 | Row 1, Col 2\n",
        "Row 2, Col 1 | Row 2, Col 2\n",
        "```\n",
        "\n",
        "becomes:\n",
        "\n",
        "First column name | Second column name\n",
        "--- | ---\n",
        "Row 1, Col 1 | Row 1, Col 2\n",
        "Row 2, Col 1 | Row 2, Col 2"
      ]
    },
    {
      "cell_type": "markdown",
      "metadata": {
        "id": "wPt2Xw2HXpqE"
      },
      "source": [
        "___"
      ]
    },
    {
      "cell_type": "markdown",
      "metadata": {
        "id": "MfRt7KtsXpqE"
      },
      "source": [
        "# Python\n",
        "\n",
        "### Python Versions\n",
        "\n",
        "There are two popular versions of Python: 2.7 and 3.x. Note that Python 3.x is not backward-compatible (i.e., Python 2 code is incompatible with 3.x). For this course, we'll rely specifically on Python >=3.7. \n",
        "\n",
        "Note that that Python 2.7 was once really popular. It has been deprecated and will no longer receive security updates and bug fixes. If you're using this (even elsewhere in your personal/work life) -- migrate!"
      ]
    },
    {
      "cell_type": "markdown",
      "metadata": {
        "id": "ehDFGpo9XpqF"
      },
      "source": [
        "### Basic Data Types\n",
        "\n",
        "**Numbers**"
      ]
    },
    {
      "cell_type": "code",
      "metadata": {
        "id": "Z3gGmqlwXpqF",
        "colab": {
          "base_uri": "https://localhost:8080/"
        },
        "outputId": "4bcd1da6-ebba-481a-e224-e4c3d78f6eae"
      },
      "source": [
        "x = 3\n",
        "print(type(x)) # Prints \"<class 'int'>\"\n",
        "print(x)       # Prints \"3\"\n",
        "print(x + 1)   # Addition; prints \"4\"\n",
        "print(x - 1)   # Subtraction; prints \"2\"\n",
        "print(x * 2)   # Multiplication; prints \"6\"\n",
        "print(x ** 2)  # Exponentiation; prints \"9\"\n",
        "x += 1\n",
        "print(x)  # Prints \"4\"\n",
        "x *= 2\n",
        "print(x)  # Prints \"8\"\n",
        "y = 2.5\n",
        "print(type(y)) # Prints \"<class 'float'>\"\n",
        "print(y, y + 1, y * 2, y ** 2) # Prints \"2.5 3.5 5.0 6.25\""
      ],
      "execution_count": 45,
      "outputs": [
        {
          "output_type": "stream",
          "name": "stdout",
          "text": [
            "<class 'int'>\n",
            "3\n",
            "4\n",
            "2\n",
            "6\n",
            "9\n",
            "4\n",
            "8\n",
            "<class 'float'>\n",
            "2.5 3.5 5.0 6.25\n"
          ]
        }
      ]
    },
    {
      "cell_type": "markdown",
      "metadata": {
        "id": "Yrzq9Wu_XpqF"
      },
      "source": [
        "**Boolean**"
      ]
    },
    {
      "cell_type": "code",
      "metadata": {
        "id": "XV6t_CrCXpqG",
        "colab": {
          "base_uri": "https://localhost:8080/"
        },
        "outputId": "d22a1584-2c80-4e67-f2c9-822628e220b2"
      },
      "source": [
        "t = True\n",
        "f = False\n",
        "print(type(t)) # Prints \"<class 'bool'>\"\n",
        "print(t and f) # Logical AND; prints \"False\"\n",
        "print(t or f)  # Logical OR; prints \"True\"\n",
        "print(not t)   # Logical NOT; prints \"False\"\n",
        "print(t != f)  # Logical XOR; prints \"True\""
      ],
      "execution_count": 46,
      "outputs": [
        {
          "output_type": "stream",
          "name": "stdout",
          "text": [
            "<class 'bool'>\n",
            "False\n",
            "True\n",
            "False\n",
            "True\n"
          ]
        }
      ]
    },
    {
      "cell_type": "markdown",
      "metadata": {
        "id": "VKuGDZSOXpqG"
      },
      "source": [
        "**Strings**"
      ]
    },
    {
      "cell_type": "code",
      "metadata": {
        "id": "RdbSnI6dXpqG",
        "colab": {
          "base_uri": "https://localhost:8080/"
        },
        "outputId": "ef18c6e3-37c3-4e43-afd5-ec77ddcfe6b1"
      },
      "source": [
        "hello = 'hello'    # String literals can use single quotes\n",
        "world = \"world\"    # or double quotes; it does not matter.\n",
        "print(hello)       # Prints \"hello\"\n",
        "print(len(hello))  # String length; prints \"5\"\n",
        "hw = hello + ' ' + world  # String concatenation\n",
        "print(hw)  # prints \"hello world\"\n",
        "hw12 = f'{hello} {world} {12}' # recommended: inlining variables\n",
        "print(hw12)"
      ],
      "execution_count": 47,
      "outputs": [
        {
          "output_type": "stream",
          "name": "stdout",
          "text": [
            "hello\n",
            "5\n",
            "hello world\n",
            "hello world 12\n"
          ]
        }
      ]
    },
    {
      "cell_type": "markdown",
      "metadata": {
        "id": "dv_9_UiBXpqH"
      },
      "source": [
        "## Containers\n",
        "\n",
        "Python extensively relies on four types of containers:\n",
        " 1. Lists\n",
        " 1. Dictionaries\n",
        " 1. Sets\n",
        " 1. Tuples"
      ]
    },
    {
      "cell_type": "markdown",
      "metadata": {
        "id": "ZZhtTMZLXpqH"
      },
      "source": [
        "**Lists**  : resizable arrays, which can contain heteregenous elements"
      ]
    },
    {
      "cell_type": "code",
      "metadata": {
        "id": "D0uVH4RMXpqH",
        "colab": {
          "base_uri": "https://localhost:8080/"
        },
        "outputId": "f4738eba-580a-40f2-d17f-c8abf6e429b1"
      },
      "source": [
        "xs = [3, 1, 2, 'foo']    # Create a list\n",
        "print(xs, xs[2])  # Prints \"[3, 1, 2] 2\"\n",
        "print(xs[-1])     # Negative indices count from the end of the list; prints \"2\"\n",
        "xs[2] = 'foo'     # Lists can contain elements of different types\n",
        "print(xs)         # Prints \"[3, 1, 'foo']\"\n",
        "xs.append('bar')  # Add a new element to the end of the list\n",
        "print(xs)         # Prints \"[3, 1, 'foo', 'bar']\"\n",
        "x = xs.pop()      # Remove and return the last element of the list\n",
        "print(x, xs)      # Prints \"bar [3, 1, 'foo']\"\n",
        "\n",
        "# ----- Loops\n",
        "animals = ['cat', 'dog', 'monkey']\n",
        "for animal in animals:\n",
        "    print(animal)"
      ],
      "execution_count": 48,
      "outputs": [
        {
          "output_type": "stream",
          "name": "stdout",
          "text": [
            "[3, 1, 2, 'foo'] 2\n",
            "foo\n",
            "[3, 1, 'foo', 'foo']\n",
            "[3, 1, 'foo', 'foo', 'bar']\n",
            "bar [3, 1, 'foo', 'foo']\n",
            "cat\n",
            "dog\n",
            "monkey\n"
          ]
        }
      ]
    },
    {
      "cell_type": "markdown",
      "metadata": {
        "id": "g2tns3ywXpqH"
      },
      "source": [
        "**Dictionaries**: Key-value pairs (similar to `Map`)\n",
        "\n",
        "Also check-out `collections.defaultdict`, which is convenient at certain times."
      ]
    },
    {
      "cell_type": "code",
      "metadata": {
        "id": "5gzqntgxXpqI",
        "colab": {
          "base_uri": "https://localhost:8080/"
        },
        "outputId": "3618161f-0b6b-425b-e214-09d1b61e7ada"
      },
      "source": [
        "d = {'cat': 'cute', 'dog': 'furry'}  # Create a new dictionary with some data\n",
        "print(d)\n",
        "print(d['cat'])       # Get an entry from a dictionary; prints \"cute\"\n",
        "print('cat' in d)     # Check if a dictionary has a given key; prints \"True\"\n",
        "d['fish'] = 'wet'     # Set an entry in a dictionary\n",
        "# print(d['monkey'])  # KeyError: 'monkey' not a key of d\n",
        "del d['fish']         # Remove an element from a dictionary"
      ],
      "execution_count": 49,
      "outputs": [
        {
          "output_type": "stream",
          "name": "stdout",
          "text": [
            "{'cat': 'cute', 'dog': 'furry'}\n",
            "cute\n",
            "True\n"
          ]
        }
      ]
    },
    {
      "cell_type": "markdown",
      "metadata": {
        "id": "GCTFEJjrXpqI"
      },
      "source": [
        "**Sets**: Unordered collection of elements\n",
        "\n",
        "PS: Both dictionaries and sets use a `{...}` convention. Be cautious."
      ]
    },
    {
      "cell_type": "code",
      "metadata": {
        "id": "cTck4652XpqI",
        "colab": {
          "base_uri": "https://localhost:8080/"
        },
        "outputId": "bf607bf3-fe9d-456f-d783-560be104f31f"
      },
      "source": [
        "animals = {'cat', 'dog'}\n",
        "print('cat' in animals)   # Check if an element is in a set; prints \"True\"\n",
        "print('fish' in animals)  # prints \"False\"\n",
        "animals.add('fish')       # Add an element to a set\n",
        "print(len(animals))       # Number of elements in a set; prints \"3\"\n",
        "animals.add('cat')        # Adding an element that is already in the set does nothing\n",
        "print(len(animals))       # Prints \"3\"\n",
        "animals.remove('cat')     # Remove an element from a set\n",
        "print(len(animals))       # Prints \"2\""
      ],
      "execution_count": 50,
      "outputs": [
        {
          "output_type": "stream",
          "name": "stdout",
          "text": [
            "True\n",
            "False\n",
            "3\n",
            "3\n",
            "2\n"
          ]
        }
      ]
    },
    {
      "cell_type": "markdown",
      "metadata": {
        "id": "UY5tt0p9XpqI"
      },
      "source": [
        "**Tuples**: Immutable lists"
      ]
    },
    {
      "cell_type": "code",
      "metadata": {
        "id": "oHPfaL4fXpqI",
        "colab": {
          "base_uri": "https://localhost:8080/"
        },
        "outputId": "d604d6e2-5101-4515-b762-1102b7c70d70"
      },
      "source": [
        "t = (5, 6)        # Create a tuple\n",
        "print(type(t))    # Prints \"<class 'tuple'>\"\n",
        "d = {(x, x + 1): x for x in range(10)}  # Create a dictionary with tuple keys\n",
        "print(d[t])       # Prints \"5\"\n",
        "print(d[(1, 2)])  # Prints \"1\""
      ],
      "execution_count": 51,
      "outputs": [
        {
          "output_type": "stream",
          "name": "stdout",
          "text": [
            "<class 'tuple'>\n",
            "5\n",
            "1\n"
          ]
        }
      ]
    },
    {
      "cell_type": "markdown",
      "metadata": {
        "id": "bMT2bYG3XpqJ"
      },
      "source": [
        "### Functions"
      ]
    },
    {
      "cell_type": "code",
      "metadata": {
        "id": "2KsbcsaQXpqJ",
        "colab": {
          "base_uri": "https://localhost:8080/"
        },
        "outputId": "257d25c3-80c1-418d-dddd-5c041c5d6590"
      },
      "source": [
        "def sign(x):\n",
        "    if x > 0:\n",
        "        return 'positive'\n",
        "    elif x < 0:\n",
        "        return 'negative'\n",
        "    else:\n",
        "        return 'zero'\n",
        "\n",
        "for x in [-1, 0, 1]:\n",
        "    print(sign(x))\n",
        "# Prints \"negative\", \"zero\", \"positive\""
      ],
      "execution_count": 52,
      "outputs": [
        {
          "output_type": "stream",
          "name": "stdout",
          "text": [
            "negative\n",
            "zero\n",
            "positive\n"
          ]
        }
      ]
    },
    {
      "cell_type": "markdown",
      "metadata": {
        "id": "VnGd6SJeXpqJ"
      },
      "source": [
        "___"
      ]
    },
    {
      "cell_type": "markdown",
      "metadata": {
        "id": "jHwBWkQbXpqJ"
      },
      "source": [
        "# Numpy\n",
        "\n",
        "\"NumPy is the fundamental package for scientific computing in Python. It is a Python library that provides a multidimensional array object, various derived objects (such as masked arrays and matrices), and an assortment of routines for fast operations on arrays, including mathematical, logical, shape manipulation, sorting, selecting, I/O, discrete Fourier transforms, basic linear algebra, basic statistical operations, random simulation and much more\"\n",
        "-https://docs.scipy.org/doc/numpy-1.10.1/user/whatisnumpy.html."
      ]
    },
    {
      "cell_type": "code",
      "metadata": {
        "id": "oT44iTBJXpqJ"
      },
      "source": [
        "import numpy as np    # Almost everyone (at least the sane ones) import it this way"
      ],
      "execution_count": 53,
      "outputs": []
    },
    {
      "cell_type": "markdown",
      "metadata": {
        "id": "Px5hb1rPXpqK"
      },
      "source": [
        "## Motivation"
      ]
    },
    {
      "cell_type": "markdown",
      "metadata": {
        "id": "YVuEYJ9rXpqK"
      },
      "source": [
        "### Faster"
      ]
    },
    {
      "cell_type": "code",
      "metadata": {
        "id": "Mp7eaizzXpqK"
      },
      "source": [
        "def matrixmult (A, B):\n",
        "    rows_A = len(A)\n",
        "    cols_A = len(A[0])\n",
        "    rows_B = len(B)\n",
        "    cols_B = len(B[0])\n",
        "\n",
        "    if cols_A != rows_B:\n",
        "      print(\"Cannot multiply the two matrices. Incorrect dimensions.\")\n",
        "      return\n",
        "\n",
        "    # Create the result matrix\n",
        "    # Dimensions would be rows_A x cols_B\n",
        "    C = [[0 for row in range(cols_B)] for col in range(rows_A)]\n",
        "\n",
        "    for i in range(rows_A):\n",
        "        for j in range(cols_B):\n",
        "            for k in range(cols_A):\n",
        "                C[i][j] += A[i][k] * B[k][j]\n",
        "    return C"
      ],
      "execution_count": 54,
      "outputs": []
    },
    {
      "cell_type": "code",
      "metadata": {
        "id": "h6_14mMqXpqK",
        "colab": {
          "base_uri": "https://localhost:8080/"
        },
        "outputId": "1eb76444-95b4-4915-ba63-c252d1b098a4"
      },
      "source": [
        "A = np.random.random((10**2, 10**2))\n",
        "B = np.random.random((10**2, 10**2))\n",
        "print(A.shape, B.shape)"
      ],
      "execution_count": 55,
      "outputs": [
        {
          "output_type": "stream",
          "name": "stdout",
          "text": [
            "(100, 100) (100, 100)\n"
          ]
        }
      ]
    },
    {
      "cell_type": "code",
      "metadata": {
        "id": "5amYNmzfXpqK",
        "colab": {
          "base_uri": "https://localhost:8080/"
        },
        "outputId": "6c4d78cf-d3ec-439a-9576-76809c9a393f"
      },
      "source": [
        "%%time\n",
        "C = matrixmult(A, B)\n",
        "print(np.sum(C))"
      ],
      "execution_count": 56,
      "outputs": [
        {
          "output_type": "stream",
          "name": "stdout",
          "text": [
            "251610.512559473\n",
            "CPU times: user 1.1 s, sys: 96 µs, total: 1.1 s\n",
            "Wall time: 1.11 s\n"
          ]
        }
      ]
    },
    {
      "cell_type": "code",
      "metadata": {
        "id": "hNUUwwPOXpqL",
        "colab": {
          "base_uri": "https://localhost:8080/"
        },
        "outputId": "c0cdbf3b-f940-405c-ec36-8e8980f111b1"
      },
      "source": [
        "%%time\n",
        "C = A.dot(B)    # Note: A*B performs element-wise multiplication\n",
        "print(np.sum(C))"
      ],
      "execution_count": 57,
      "outputs": [
        {
          "output_type": "stream",
          "name": "stdout",
          "text": [
            "251610.51255947296\n",
            "CPU times: user 3.71 ms, sys: 0 ns, total: 3.71 ms\n",
            "Wall time: 2.93 ms\n"
          ]
        }
      ]
    },
    {
      "cell_type": "markdown",
      "metadata": {
        "id": "Yj-VLEuDXpqL"
      },
      "source": [
        "### Stronger"
      ]
    },
    {
      "cell_type": "code",
      "metadata": {
        "id": "rcFChZnTXpqL",
        "colab": {
          "base_uri": "https://localhost:8080/"
        },
        "outputId": "662a50f4-d207-43ee-fa70-ae177a82cf87"
      },
      "source": [
        "a = np.array([\n",
        "    [1, 2, 3, 1],\n",
        "    [5, 7, 9, 10],\n",
        "    [4, 6, 8, 2],\n",
        "])\n",
        "\n",
        "print(a.shape)\n",
        "print(a[2, 2])\n",
        "print(a[1:2, 2:4])\n",
        "print(a[:-1])"
      ],
      "execution_count": 58,
      "outputs": [
        {
          "output_type": "stream",
          "name": "stdout",
          "text": [
            "(3, 4)\n",
            "8\n",
            "[[ 9 10]]\n",
            "[[ 1  2  3  1]\n",
            " [ 5  7  9 10]]\n"
          ]
        }
      ]
    },
    {
      "cell_type": "markdown",
      "metadata": {
        "id": "otrIGiw6XpqL"
      },
      "source": [
        "Other ways of creating arrays"
      ]
    },
    {
      "cell_type": "code",
      "metadata": {
        "id": "0T5PKzoYXpqL",
        "colab": {
          "base_uri": "https://localhost:8080/"
        },
        "outputId": "5a4655a7-4a10-47ba-cbbc-efb2e3e6629c"
      },
      "source": [
        "a = np.zeros((2,2))   # Create an array of all zeros\n",
        "print(a)              # Prints \"[[ 0.  0.]\n",
        "                      #          [ 0.  0.]]\"\n",
        "\n",
        "b = np.ones((1,2))    # Create an array of all ones\n",
        "print(b)              # Prints \"[[ 1.  1.]]\"\n",
        "\n",
        "c = np.full((2,2), 7)  # Create a constant array\n",
        "print(c)               # Prints \"[[ 7.  7.]\n",
        "                       #          [ 7.  7.]]\"\n",
        "\n",
        "d = np.eye(2)         # Create a 2x2 identity matrix\n",
        "print(d)              # Prints \"[[ 1.  0.]\n",
        "                      #          [ 0.  1.]]\"\n",
        "\n",
        "e = np.random.random((2,2))  # Create an array filled with random values\n",
        "print(e)                     # Might print \"[[ 0.91940167  0.08143941]\n",
        "                             #               [ 0.68744134  0.87236687]]\""
      ],
      "execution_count": 59,
      "outputs": [
        {
          "output_type": "stream",
          "name": "stdout",
          "text": [
            "[[0. 0.]\n",
            " [0. 0.]]\n",
            "[[1. 1.]]\n",
            "[[7 7]\n",
            " [7 7]]\n",
            "[[1. 0.]\n",
            " [0. 1.]]\n",
            "[[0.43112651 0.68304274]\n",
            " [0.57104223 0.68133108]]\n"
          ]
        }
      ]
    },
    {
      "cell_type": "code",
      "metadata": {
        "id": "InWsfexkXpqL",
        "colab": {
          "base_uri": "https://localhost:8080/"
        },
        "outputId": "1b00a9b2-dca0-418d-84a8-59334ae41484"
      },
      "source": [
        "print(e > 0.5)\n",
        "print(e[e > 0.5])"
      ],
      "execution_count": 60,
      "outputs": [
        {
          "output_type": "stream",
          "name": "stdout",
          "text": [
            "[[False  True]\n",
            " [ True  True]]\n",
            "[0.68304274 0.57104223 0.68133108]\n"
          ]
        }
      ]
    },
    {
      "cell_type": "markdown",
      "metadata": {
        "id": "yA9HlUw6XpqL"
      },
      "source": [
        "**Numpy Operations**"
      ]
    },
    {
      "cell_type": "code",
      "metadata": {
        "id": "lOoo-Dx4XpqL",
        "colab": {
          "base_uri": "https://localhost:8080/"
        },
        "outputId": "5acf00b0-7310-49cf-ed2b-f8ba3af37407"
      },
      "source": [
        "x = np.array([[1,2],[3,4]], dtype=np.float64)\n",
        "y = np.array([[5,6],[7,8]], dtype=np.float64)\n",
        "\n",
        "# Elementwise sum; both produce the array\n",
        "# [[ 6.0  8.0]\n",
        "#  [10.0 12.0]]\n",
        "print(x + y)\n",
        "print(np.add(x, y))\n",
        "\n",
        "# Elementwise difference; both produce the array\n",
        "# [[-4.0 -4.0]\n",
        "#  [-4.0 -4.0]]\n",
        "print(x - y)\n",
        "print(np.subtract(x, y))\n",
        "\n",
        "# Elementwise product; both produce the array\n",
        "# [[ 5.0 12.0]\n",
        "#  [21.0 32.0]]\n",
        "print(x * y)\n",
        "print(np.multiply(x, y))\n",
        "\n",
        "# Elementwise division; both produce the array\n",
        "# [[ 0.2         0.33333333]\n",
        "#  [ 0.42857143  0.5       ]]\n",
        "print(x / y)\n",
        "print(np.divide(x, y))\n",
        "\n",
        "# Elementwise square root; produces the array\n",
        "# [[ 1.          1.41421356]\n",
        "#  [ 1.73205081  2.        ]]\n",
        "print(np.sqrt(x))"
      ],
      "execution_count": 61,
      "outputs": [
        {
          "output_type": "stream",
          "name": "stdout",
          "text": [
            "[[ 6.  8.]\n",
            " [10. 12.]]\n",
            "[[ 6.  8.]\n",
            " [10. 12.]]\n",
            "[[-4. -4.]\n",
            " [-4. -4.]]\n",
            "[[-4. -4.]\n",
            " [-4. -4.]]\n",
            "[[ 5. 12.]\n",
            " [21. 32.]]\n",
            "[[ 5. 12.]\n",
            " [21. 32.]]\n",
            "[[0.2        0.33333333]\n",
            " [0.42857143 0.5       ]]\n",
            "[[0.2        0.33333333]\n",
            " [0.42857143 0.5       ]]\n",
            "[[1.         1.41421356]\n",
            " [1.73205081 2.        ]]\n"
          ]
        }
      ]
    },
    {
      "cell_type": "markdown",
      "metadata": {
        "id": "R6atRo9UXpqM"
      },
      "source": [
        "# Pandas\n",
        "\n",
        "\"pandas is a Python package providing fast, flexible, and expressive data structures designed to make working with “relational” or “labeled” data both easy and intuitive. It aims to be the fundamental high-level building block for doing practical, real world data analysis in Python.\" - [Pandas](http://pandas.pydata.org/pandas-docs/stable/)\n",
        "\n",
        "\n",
        "\"Python has long been great for data munging and preparation, but less so for data analysis and modeling. pandas helps fill this gap, enabling you to carry out your entire data analysis workflow in Python without having to switch to a more domain specific language like R.\" - [Why Pandas?](https://pandas.pydata.org/)"
      ]
    },
    {
      "cell_type": "code",
      "metadata": {
        "id": "ZyVB8sOYXpqM"
      },
      "source": [
        "import pandas as pd"
      ],
      "execution_count": 62,
      "outputs": []
    },
    {
      "cell_type": "markdown",
      "metadata": {
        "id": "xX76koXqXpqN"
      },
      "source": [
        "Often you'll be dealing with $d$-dim datapoints, or $d$-features. A **dataframe** provides a nice way to encapsulate this data and represent it in a tabular structure."
      ]
    },
    {
      "cell_type": "code",
      "metadata": {
        "id": "ySykilfQXpqN",
        "colab": {
          "base_uri": "https://localhost:8080/",
          "height": 175
        },
        "outputId": "eb997c7b-aea4-446a-e0c2-dd1942c820fc"
      },
      "source": [
        "df = pd.DataFrame({  'A' : [1., 2., 3., 4.],\n",
        "                     'B' : pd.Timestamp('20130102'),\n",
        "                     'C' : pd.Series(1,index=list(range(4)),dtype='float32'),\n",
        "                     'D' : np.array([3] * 4,dtype='int32'),\n",
        "                     'E' : pd.Categorical([\"test\",\"train\",\"test\",\"train\"]),\n",
        "                     'F' : ['foo', 'bar', 'foo', 'bar'] })\n",
        "display(df)"
      ],
      "execution_count": 63,
      "outputs": [
        {
          "output_type": "display_data",
          "data": {
            "text/html": [
              "<div>\n",
              "<style scoped>\n",
              "    .dataframe tbody tr th:only-of-type {\n",
              "        vertical-align: middle;\n",
              "    }\n",
              "\n",
              "    .dataframe tbody tr th {\n",
              "        vertical-align: top;\n",
              "    }\n",
              "\n",
              "    .dataframe thead th {\n",
              "        text-align: right;\n",
              "    }\n",
              "</style>\n",
              "<table border=\"1\" class=\"dataframe\">\n",
              "  <thead>\n",
              "    <tr style=\"text-align: right;\">\n",
              "      <th></th>\n",
              "      <th>A</th>\n",
              "      <th>B</th>\n",
              "      <th>C</th>\n",
              "      <th>D</th>\n",
              "      <th>E</th>\n",
              "      <th>F</th>\n",
              "    </tr>\n",
              "  </thead>\n",
              "  <tbody>\n",
              "    <tr>\n",
              "      <th>0</th>\n",
              "      <td>1.0</td>\n",
              "      <td>2013-01-02</td>\n",
              "      <td>1.0</td>\n",
              "      <td>3</td>\n",
              "      <td>test</td>\n",
              "      <td>foo</td>\n",
              "    </tr>\n",
              "    <tr>\n",
              "      <th>1</th>\n",
              "      <td>2.0</td>\n",
              "      <td>2013-01-02</td>\n",
              "      <td>1.0</td>\n",
              "      <td>3</td>\n",
              "      <td>train</td>\n",
              "      <td>bar</td>\n",
              "    </tr>\n",
              "    <tr>\n",
              "      <th>2</th>\n",
              "      <td>3.0</td>\n",
              "      <td>2013-01-02</td>\n",
              "      <td>1.0</td>\n",
              "      <td>3</td>\n",
              "      <td>test</td>\n",
              "      <td>foo</td>\n",
              "    </tr>\n",
              "    <tr>\n",
              "      <th>3</th>\n",
              "      <td>4.0</td>\n",
              "      <td>2013-01-02</td>\n",
              "      <td>1.0</td>\n",
              "      <td>3</td>\n",
              "      <td>train</td>\n",
              "      <td>bar</td>\n",
              "    </tr>\n",
              "  </tbody>\n",
              "</table>\n",
              "</div>"
            ],
            "text/plain": [
              "     A          B    C  D      E    F\n",
              "0  1.0 2013-01-02  1.0  3   test  foo\n",
              "1  2.0 2013-01-02  1.0  3  train  bar\n",
              "2  3.0 2013-01-02  1.0  3   test  foo\n",
              "3  4.0 2013-01-02  1.0  3  train  bar"
            ]
          },
          "metadata": {}
        }
      ]
    },
    {
      "cell_type": "markdown",
      "metadata": {
        "id": "3Jxwh18qXpqN"
      },
      "source": [
        "### Load some existing data"
      ]
    },
    {
      "cell_type": "code",
      "metadata": {
        "id": "YdOTSX20XpqO"
      },
      "source": [
        "! if [ ! -f iris.csv ]; then wget https://gist.githubusercontent.com/curran/a08a1080b88344b0c8a7/raw/d546eaee765268bf2f487608c537c05e22e4b221/iris.csv; fi"
      ],
      "execution_count": 64,
      "outputs": []
    },
    {
      "cell_type": "code",
      "metadata": {
        "id": "IbiNjX7PXpqO",
        "colab": {
          "base_uri": "https://localhost:8080/"
        },
        "outputId": "e3c81de0-b0fa-455f-e370-6c3f3bb619e3"
      },
      "source": [
        "! head iris.csv"
      ],
      "execution_count": 65,
      "outputs": [
        {
          "output_type": "stream",
          "name": "stdout",
          "text": [
            "sepal_length,sepal_width,petal_length,petal_width,species\n",
            "5.1,3.5,1.4,0.2,setosa\n",
            "4.9,3.0,1.4,0.2,setosa\n",
            "4.7,3.2,1.3,0.2,setosa\n",
            "4.6,3.1,1.5,0.2,setosa\n",
            "5.0,3.6,1.4,0.2,setosa\n",
            "5.4,3.9,1.7,0.4,setosa\n",
            "4.6,3.4,1.4,0.3,setosa\n",
            "5.0,3.4,1.5,0.2,setosa\n",
            "4.4,2.9,1.4,0.2,setosa\n"
          ]
        }
      ]
    },
    {
      "cell_type": "code",
      "metadata": {
        "scrolled": true,
        "id": "5ERbzI7XXpqO",
        "colab": {
          "base_uri": "https://localhost:8080/",
          "height": 442
        },
        "outputId": "266abab6-71e4-4465-8a13-a083a0944055"
      },
      "source": [
        "iris = pd.read_csv('iris.csv')\n",
        "print(type(iris))   # Iris is a dataframe\n",
        "iris"
      ],
      "execution_count": 66,
      "outputs": [
        {
          "output_type": "stream",
          "name": "stdout",
          "text": [
            "<class 'pandas.core.frame.DataFrame'>\n"
          ]
        },
        {
          "output_type": "execute_result",
          "data": {
            "text/html": [
              "<div>\n",
              "<style scoped>\n",
              "    .dataframe tbody tr th:only-of-type {\n",
              "        vertical-align: middle;\n",
              "    }\n",
              "\n",
              "    .dataframe tbody tr th {\n",
              "        vertical-align: top;\n",
              "    }\n",
              "\n",
              "    .dataframe thead th {\n",
              "        text-align: right;\n",
              "    }\n",
              "</style>\n",
              "<table border=\"1\" class=\"dataframe\">\n",
              "  <thead>\n",
              "    <tr style=\"text-align: right;\">\n",
              "      <th></th>\n",
              "      <th>sepal_length</th>\n",
              "      <th>sepal_width</th>\n",
              "      <th>petal_length</th>\n",
              "      <th>petal_width</th>\n",
              "      <th>species</th>\n",
              "    </tr>\n",
              "  </thead>\n",
              "  <tbody>\n",
              "    <tr>\n",
              "      <th>0</th>\n",
              "      <td>5.1</td>\n",
              "      <td>3.5</td>\n",
              "      <td>1.4</td>\n",
              "      <td>0.2</td>\n",
              "      <td>setosa</td>\n",
              "    </tr>\n",
              "    <tr>\n",
              "      <th>1</th>\n",
              "      <td>4.9</td>\n",
              "      <td>3.0</td>\n",
              "      <td>1.4</td>\n",
              "      <td>0.2</td>\n",
              "      <td>setosa</td>\n",
              "    </tr>\n",
              "    <tr>\n",
              "      <th>2</th>\n",
              "      <td>4.7</td>\n",
              "      <td>3.2</td>\n",
              "      <td>1.3</td>\n",
              "      <td>0.2</td>\n",
              "      <td>setosa</td>\n",
              "    </tr>\n",
              "    <tr>\n",
              "      <th>3</th>\n",
              "      <td>4.6</td>\n",
              "      <td>3.1</td>\n",
              "      <td>1.5</td>\n",
              "      <td>0.2</td>\n",
              "      <td>setosa</td>\n",
              "    </tr>\n",
              "    <tr>\n",
              "      <th>4</th>\n",
              "      <td>5.0</td>\n",
              "      <td>3.6</td>\n",
              "      <td>1.4</td>\n",
              "      <td>0.2</td>\n",
              "      <td>setosa</td>\n",
              "    </tr>\n",
              "    <tr>\n",
              "      <th>...</th>\n",
              "      <td>...</td>\n",
              "      <td>...</td>\n",
              "      <td>...</td>\n",
              "      <td>...</td>\n",
              "      <td>...</td>\n",
              "    </tr>\n",
              "    <tr>\n",
              "      <th>145</th>\n",
              "      <td>6.7</td>\n",
              "      <td>3.0</td>\n",
              "      <td>5.2</td>\n",
              "      <td>2.3</td>\n",
              "      <td>virginica</td>\n",
              "    </tr>\n",
              "    <tr>\n",
              "      <th>146</th>\n",
              "      <td>6.3</td>\n",
              "      <td>2.5</td>\n",
              "      <td>5.0</td>\n",
              "      <td>1.9</td>\n",
              "      <td>virginica</td>\n",
              "    </tr>\n",
              "    <tr>\n",
              "      <th>147</th>\n",
              "      <td>6.5</td>\n",
              "      <td>3.0</td>\n",
              "      <td>5.2</td>\n",
              "      <td>2.0</td>\n",
              "      <td>virginica</td>\n",
              "    </tr>\n",
              "    <tr>\n",
              "      <th>148</th>\n",
              "      <td>6.2</td>\n",
              "      <td>3.4</td>\n",
              "      <td>5.4</td>\n",
              "      <td>2.3</td>\n",
              "      <td>virginica</td>\n",
              "    </tr>\n",
              "    <tr>\n",
              "      <th>149</th>\n",
              "      <td>5.9</td>\n",
              "      <td>3.0</td>\n",
              "      <td>5.1</td>\n",
              "      <td>1.8</td>\n",
              "      <td>virginica</td>\n",
              "    </tr>\n",
              "  </tbody>\n",
              "</table>\n",
              "<p>150 rows × 5 columns</p>\n",
              "</div>"
            ],
            "text/plain": [
              "     sepal_length  sepal_width  petal_length  petal_width    species\n",
              "0             5.1          3.5           1.4          0.2     setosa\n",
              "1             4.9          3.0           1.4          0.2     setosa\n",
              "2             4.7          3.2           1.3          0.2     setosa\n",
              "3             4.6          3.1           1.5          0.2     setosa\n",
              "4             5.0          3.6           1.4          0.2     setosa\n",
              "..            ...          ...           ...          ...        ...\n",
              "145           6.7          3.0           5.2          2.3  virginica\n",
              "146           6.3          2.5           5.0          1.9  virginica\n",
              "147           6.5          3.0           5.2          2.0  virginica\n",
              "148           6.2          3.4           5.4          2.3  virginica\n",
              "149           5.9          3.0           5.1          1.8  virginica\n",
              "\n",
              "[150 rows x 5 columns]"
            ]
          },
          "metadata": {},
          "execution_count": 66
        }
      ]
    },
    {
      "cell_type": "markdown",
      "metadata": {
        "id": "7H8oG4W_XpqO"
      },
      "source": [
        "### Viewing"
      ]
    },
    {
      "cell_type": "code",
      "metadata": {
        "id": "9mC0D0V6XpqO",
        "colab": {
          "base_uri": "https://localhost:8080/",
          "height": 915
        },
        "outputId": "75a9d32e-c23d-4737-9cb4-0d3ce380b03a"
      },
      "source": [
        "# Some exploratory functions\n",
        "print('Head')\n",
        "display(iris.head(n=5))   # Show just the first few rows\n",
        "\n",
        "print('Tail')\n",
        "display(iris.tail(n=3))\n",
        "\n",
        "print('Random sample')\n",
        "display(iris.sample(n=5))\n",
        "\n",
        "display(iris.columns)\n",
        "\n",
        "# Simple stats\n",
        "display(iris.describe())"
      ],
      "execution_count": 67,
      "outputs": [
        {
          "output_type": "stream",
          "name": "stdout",
          "text": [
            "Head\n"
          ]
        },
        {
          "output_type": "display_data",
          "data": {
            "text/html": [
              "<div>\n",
              "<style scoped>\n",
              "    .dataframe tbody tr th:only-of-type {\n",
              "        vertical-align: middle;\n",
              "    }\n",
              "\n",
              "    .dataframe tbody tr th {\n",
              "        vertical-align: top;\n",
              "    }\n",
              "\n",
              "    .dataframe thead th {\n",
              "        text-align: right;\n",
              "    }\n",
              "</style>\n",
              "<table border=\"1\" class=\"dataframe\">\n",
              "  <thead>\n",
              "    <tr style=\"text-align: right;\">\n",
              "      <th></th>\n",
              "      <th>sepal_length</th>\n",
              "      <th>sepal_width</th>\n",
              "      <th>petal_length</th>\n",
              "      <th>petal_width</th>\n",
              "      <th>species</th>\n",
              "    </tr>\n",
              "  </thead>\n",
              "  <tbody>\n",
              "    <tr>\n",
              "      <th>0</th>\n",
              "      <td>5.1</td>\n",
              "      <td>3.5</td>\n",
              "      <td>1.4</td>\n",
              "      <td>0.2</td>\n",
              "      <td>setosa</td>\n",
              "    </tr>\n",
              "    <tr>\n",
              "      <th>1</th>\n",
              "      <td>4.9</td>\n",
              "      <td>3.0</td>\n",
              "      <td>1.4</td>\n",
              "      <td>0.2</td>\n",
              "      <td>setosa</td>\n",
              "    </tr>\n",
              "    <tr>\n",
              "      <th>2</th>\n",
              "      <td>4.7</td>\n",
              "      <td>3.2</td>\n",
              "      <td>1.3</td>\n",
              "      <td>0.2</td>\n",
              "      <td>setosa</td>\n",
              "    </tr>\n",
              "    <tr>\n",
              "      <th>3</th>\n",
              "      <td>4.6</td>\n",
              "      <td>3.1</td>\n",
              "      <td>1.5</td>\n",
              "      <td>0.2</td>\n",
              "      <td>setosa</td>\n",
              "    </tr>\n",
              "    <tr>\n",
              "      <th>4</th>\n",
              "      <td>5.0</td>\n",
              "      <td>3.6</td>\n",
              "      <td>1.4</td>\n",
              "      <td>0.2</td>\n",
              "      <td>setosa</td>\n",
              "    </tr>\n",
              "  </tbody>\n",
              "</table>\n",
              "</div>"
            ],
            "text/plain": [
              "   sepal_length  sepal_width  petal_length  petal_width species\n",
              "0           5.1          3.5           1.4          0.2  setosa\n",
              "1           4.9          3.0           1.4          0.2  setosa\n",
              "2           4.7          3.2           1.3          0.2  setosa\n",
              "3           4.6          3.1           1.5          0.2  setosa\n",
              "4           5.0          3.6           1.4          0.2  setosa"
            ]
          },
          "metadata": {}
        },
        {
          "output_type": "stream",
          "name": "stdout",
          "text": [
            "Tail\n"
          ]
        },
        {
          "output_type": "display_data",
          "data": {
            "text/html": [
              "<div>\n",
              "<style scoped>\n",
              "    .dataframe tbody tr th:only-of-type {\n",
              "        vertical-align: middle;\n",
              "    }\n",
              "\n",
              "    .dataframe tbody tr th {\n",
              "        vertical-align: top;\n",
              "    }\n",
              "\n",
              "    .dataframe thead th {\n",
              "        text-align: right;\n",
              "    }\n",
              "</style>\n",
              "<table border=\"1\" class=\"dataframe\">\n",
              "  <thead>\n",
              "    <tr style=\"text-align: right;\">\n",
              "      <th></th>\n",
              "      <th>sepal_length</th>\n",
              "      <th>sepal_width</th>\n",
              "      <th>petal_length</th>\n",
              "      <th>petal_width</th>\n",
              "      <th>species</th>\n",
              "    </tr>\n",
              "  </thead>\n",
              "  <tbody>\n",
              "    <tr>\n",
              "      <th>147</th>\n",
              "      <td>6.5</td>\n",
              "      <td>3.0</td>\n",
              "      <td>5.2</td>\n",
              "      <td>2.0</td>\n",
              "      <td>virginica</td>\n",
              "    </tr>\n",
              "    <tr>\n",
              "      <th>148</th>\n",
              "      <td>6.2</td>\n",
              "      <td>3.4</td>\n",
              "      <td>5.4</td>\n",
              "      <td>2.3</td>\n",
              "      <td>virginica</td>\n",
              "    </tr>\n",
              "    <tr>\n",
              "      <th>149</th>\n",
              "      <td>5.9</td>\n",
              "      <td>3.0</td>\n",
              "      <td>5.1</td>\n",
              "      <td>1.8</td>\n",
              "      <td>virginica</td>\n",
              "    </tr>\n",
              "  </tbody>\n",
              "</table>\n",
              "</div>"
            ],
            "text/plain": [
              "     sepal_length  sepal_width  petal_length  petal_width    species\n",
              "147           6.5          3.0           5.2          2.0  virginica\n",
              "148           6.2          3.4           5.4          2.3  virginica\n",
              "149           5.9          3.0           5.1          1.8  virginica"
            ]
          },
          "metadata": {}
        },
        {
          "output_type": "stream",
          "name": "stdout",
          "text": [
            "Random sample\n"
          ]
        },
        {
          "output_type": "display_data",
          "data": {
            "text/html": [
              "<div>\n",
              "<style scoped>\n",
              "    .dataframe tbody tr th:only-of-type {\n",
              "        vertical-align: middle;\n",
              "    }\n",
              "\n",
              "    .dataframe tbody tr th {\n",
              "        vertical-align: top;\n",
              "    }\n",
              "\n",
              "    .dataframe thead th {\n",
              "        text-align: right;\n",
              "    }\n",
              "</style>\n",
              "<table border=\"1\" class=\"dataframe\">\n",
              "  <thead>\n",
              "    <tr style=\"text-align: right;\">\n",
              "      <th></th>\n",
              "      <th>sepal_length</th>\n",
              "      <th>sepal_width</th>\n",
              "      <th>petal_length</th>\n",
              "      <th>petal_width</th>\n",
              "      <th>species</th>\n",
              "    </tr>\n",
              "  </thead>\n",
              "  <tbody>\n",
              "    <tr>\n",
              "      <th>94</th>\n",
              "      <td>5.6</td>\n",
              "      <td>2.7</td>\n",
              "      <td>4.2</td>\n",
              "      <td>1.3</td>\n",
              "      <td>versicolor</td>\n",
              "    </tr>\n",
              "    <tr>\n",
              "      <th>121</th>\n",
              "      <td>5.6</td>\n",
              "      <td>2.8</td>\n",
              "      <td>4.9</td>\n",
              "      <td>2.0</td>\n",
              "      <td>virginica</td>\n",
              "    </tr>\n",
              "    <tr>\n",
              "      <th>65</th>\n",
              "      <td>6.7</td>\n",
              "      <td>3.1</td>\n",
              "      <td>4.4</td>\n",
              "      <td>1.4</td>\n",
              "      <td>versicolor</td>\n",
              "    </tr>\n",
              "    <tr>\n",
              "      <th>24</th>\n",
              "      <td>4.8</td>\n",
              "      <td>3.4</td>\n",
              "      <td>1.9</td>\n",
              "      <td>0.2</td>\n",
              "      <td>setosa</td>\n",
              "    </tr>\n",
              "    <tr>\n",
              "      <th>41</th>\n",
              "      <td>4.5</td>\n",
              "      <td>2.3</td>\n",
              "      <td>1.3</td>\n",
              "      <td>0.3</td>\n",
              "      <td>setosa</td>\n",
              "    </tr>\n",
              "  </tbody>\n",
              "</table>\n",
              "</div>"
            ],
            "text/plain": [
              "     sepal_length  sepal_width  petal_length  petal_width     species\n",
              "94            5.6          2.7           4.2          1.3  versicolor\n",
              "121           5.6          2.8           4.9          2.0   virginica\n",
              "65            6.7          3.1           4.4          1.4  versicolor\n",
              "24            4.8          3.4           1.9          0.2      setosa\n",
              "41            4.5          2.3           1.3          0.3      setosa"
            ]
          },
          "metadata": {}
        },
        {
          "output_type": "display_data",
          "data": {
            "text/plain": [
              "Index(['sepal_length', 'sepal_width', 'petal_length', 'petal_width',\n",
              "       'species'],\n",
              "      dtype='object')"
            ]
          },
          "metadata": {}
        },
        {
          "output_type": "display_data",
          "data": {
            "text/html": [
              "<div>\n",
              "<style scoped>\n",
              "    .dataframe tbody tr th:only-of-type {\n",
              "        vertical-align: middle;\n",
              "    }\n",
              "\n",
              "    .dataframe tbody tr th {\n",
              "        vertical-align: top;\n",
              "    }\n",
              "\n",
              "    .dataframe thead th {\n",
              "        text-align: right;\n",
              "    }\n",
              "</style>\n",
              "<table border=\"1\" class=\"dataframe\">\n",
              "  <thead>\n",
              "    <tr style=\"text-align: right;\">\n",
              "      <th></th>\n",
              "      <th>sepal_length</th>\n",
              "      <th>sepal_width</th>\n",
              "      <th>petal_length</th>\n",
              "      <th>petal_width</th>\n",
              "    </tr>\n",
              "  </thead>\n",
              "  <tbody>\n",
              "    <tr>\n",
              "      <th>count</th>\n",
              "      <td>150.000000</td>\n",
              "      <td>150.000000</td>\n",
              "      <td>150.000000</td>\n",
              "      <td>150.000000</td>\n",
              "    </tr>\n",
              "    <tr>\n",
              "      <th>mean</th>\n",
              "      <td>5.843333</td>\n",
              "      <td>3.054000</td>\n",
              "      <td>3.758667</td>\n",
              "      <td>1.198667</td>\n",
              "    </tr>\n",
              "    <tr>\n",
              "      <th>std</th>\n",
              "      <td>0.828066</td>\n",
              "      <td>0.433594</td>\n",
              "      <td>1.764420</td>\n",
              "      <td>0.763161</td>\n",
              "    </tr>\n",
              "    <tr>\n",
              "      <th>min</th>\n",
              "      <td>4.300000</td>\n",
              "      <td>2.000000</td>\n",
              "      <td>1.000000</td>\n",
              "      <td>0.100000</td>\n",
              "    </tr>\n",
              "    <tr>\n",
              "      <th>25%</th>\n",
              "      <td>5.100000</td>\n",
              "      <td>2.800000</td>\n",
              "      <td>1.600000</td>\n",
              "      <td>0.300000</td>\n",
              "    </tr>\n",
              "    <tr>\n",
              "      <th>50%</th>\n",
              "      <td>5.800000</td>\n",
              "      <td>3.000000</td>\n",
              "      <td>4.350000</td>\n",
              "      <td>1.300000</td>\n",
              "    </tr>\n",
              "    <tr>\n",
              "      <th>75%</th>\n",
              "      <td>6.400000</td>\n",
              "      <td>3.300000</td>\n",
              "      <td>5.100000</td>\n",
              "      <td>1.800000</td>\n",
              "    </tr>\n",
              "    <tr>\n",
              "      <th>max</th>\n",
              "      <td>7.900000</td>\n",
              "      <td>4.400000</td>\n",
              "      <td>6.900000</td>\n",
              "      <td>2.500000</td>\n",
              "    </tr>\n",
              "  </tbody>\n",
              "</table>\n",
              "</div>"
            ],
            "text/plain": [
              "       sepal_length  sepal_width  petal_length  petal_width\n",
              "count    150.000000   150.000000    150.000000   150.000000\n",
              "mean       5.843333     3.054000      3.758667     1.198667\n",
              "std        0.828066     0.433594      1.764420     0.763161\n",
              "min        4.300000     2.000000      1.000000     0.100000\n",
              "25%        5.100000     2.800000      1.600000     0.300000\n",
              "50%        5.800000     3.000000      4.350000     1.300000\n",
              "75%        6.400000     3.300000      5.100000     1.800000\n",
              "max        7.900000     4.400000      6.900000     2.500000"
            ]
          },
          "metadata": {}
        }
      ]
    },
    {
      "cell_type": "markdown",
      "metadata": {
        "id": "zff-rqbmXpqO"
      },
      "source": [
        "### Selection"
      ]
    },
    {
      "cell_type": "code",
      "metadata": {
        "scrolled": true,
        "id": "Avfor2nVXpqP",
        "colab": {
          "base_uri": "https://localhost:8080/",
          "height": 445
        },
        "outputId": "b8c93f51-01d6-4f58-c40d-fd53cc8001a9"
      },
      "source": [
        "# sample = iris.sample(n=5)\n",
        "\n",
        "# # Select columns\n",
        "# print('Selecting columns')\n",
        "# display(sample[['sepal_length', 'species']])\n",
        "\n",
        "# # Select rows\n",
        "# print('Selecting rows')\n",
        "# display(sample[:3])\n",
        "\n",
        "print('Filter rows based on some criteria')\n",
        "# Using a single filter\n",
        "display(iris[iris['petal_length'] > 6.0])\n",
        "# Multiple filters\n",
        "display(iris[(iris['petal_length'] > 6.0) & (iris['petal_width'] < 2.0)])"
      ],
      "execution_count": 68,
      "outputs": [
        {
          "output_type": "stream",
          "name": "stdout",
          "text": [
            "Filter rows based on some criteria\n"
          ]
        },
        {
          "output_type": "display_data",
          "data": {
            "text/html": [
              "<div>\n",
              "<style scoped>\n",
              "    .dataframe tbody tr th:only-of-type {\n",
              "        vertical-align: middle;\n",
              "    }\n",
              "\n",
              "    .dataframe tbody tr th {\n",
              "        vertical-align: top;\n",
              "    }\n",
              "\n",
              "    .dataframe thead th {\n",
              "        text-align: right;\n",
              "    }\n",
              "</style>\n",
              "<table border=\"1\" class=\"dataframe\">\n",
              "  <thead>\n",
              "    <tr style=\"text-align: right;\">\n",
              "      <th></th>\n",
              "      <th>sepal_length</th>\n",
              "      <th>sepal_width</th>\n",
              "      <th>petal_length</th>\n",
              "      <th>petal_width</th>\n",
              "      <th>species</th>\n",
              "    </tr>\n",
              "  </thead>\n",
              "  <tbody>\n",
              "    <tr>\n",
              "      <th>105</th>\n",
              "      <td>7.6</td>\n",
              "      <td>3.0</td>\n",
              "      <td>6.6</td>\n",
              "      <td>2.1</td>\n",
              "      <td>virginica</td>\n",
              "    </tr>\n",
              "    <tr>\n",
              "      <th>107</th>\n",
              "      <td>7.3</td>\n",
              "      <td>2.9</td>\n",
              "      <td>6.3</td>\n",
              "      <td>1.8</td>\n",
              "      <td>virginica</td>\n",
              "    </tr>\n",
              "    <tr>\n",
              "      <th>109</th>\n",
              "      <td>7.2</td>\n",
              "      <td>3.6</td>\n",
              "      <td>6.1</td>\n",
              "      <td>2.5</td>\n",
              "      <td>virginica</td>\n",
              "    </tr>\n",
              "    <tr>\n",
              "      <th>117</th>\n",
              "      <td>7.7</td>\n",
              "      <td>3.8</td>\n",
              "      <td>6.7</td>\n",
              "      <td>2.2</td>\n",
              "      <td>virginica</td>\n",
              "    </tr>\n",
              "    <tr>\n",
              "      <th>118</th>\n",
              "      <td>7.7</td>\n",
              "      <td>2.6</td>\n",
              "      <td>6.9</td>\n",
              "      <td>2.3</td>\n",
              "      <td>virginica</td>\n",
              "    </tr>\n",
              "    <tr>\n",
              "      <th>122</th>\n",
              "      <td>7.7</td>\n",
              "      <td>2.8</td>\n",
              "      <td>6.7</td>\n",
              "      <td>2.0</td>\n",
              "      <td>virginica</td>\n",
              "    </tr>\n",
              "    <tr>\n",
              "      <th>130</th>\n",
              "      <td>7.4</td>\n",
              "      <td>2.8</td>\n",
              "      <td>6.1</td>\n",
              "      <td>1.9</td>\n",
              "      <td>virginica</td>\n",
              "    </tr>\n",
              "    <tr>\n",
              "      <th>131</th>\n",
              "      <td>7.9</td>\n",
              "      <td>3.8</td>\n",
              "      <td>6.4</td>\n",
              "      <td>2.0</td>\n",
              "      <td>virginica</td>\n",
              "    </tr>\n",
              "    <tr>\n",
              "      <th>135</th>\n",
              "      <td>7.7</td>\n",
              "      <td>3.0</td>\n",
              "      <td>6.1</td>\n",
              "      <td>2.3</td>\n",
              "      <td>virginica</td>\n",
              "    </tr>\n",
              "  </tbody>\n",
              "</table>\n",
              "</div>"
            ],
            "text/plain": [
              "     sepal_length  sepal_width  petal_length  petal_width    species\n",
              "105           7.6          3.0           6.6          2.1  virginica\n",
              "107           7.3          2.9           6.3          1.8  virginica\n",
              "109           7.2          3.6           6.1          2.5  virginica\n",
              "117           7.7          3.8           6.7          2.2  virginica\n",
              "118           7.7          2.6           6.9          2.3  virginica\n",
              "122           7.7          2.8           6.7          2.0  virginica\n",
              "130           7.4          2.8           6.1          1.9  virginica\n",
              "131           7.9          3.8           6.4          2.0  virginica\n",
              "135           7.7          3.0           6.1          2.3  virginica"
            ]
          },
          "metadata": {}
        },
        {
          "output_type": "display_data",
          "data": {
            "text/html": [
              "<div>\n",
              "<style scoped>\n",
              "    .dataframe tbody tr th:only-of-type {\n",
              "        vertical-align: middle;\n",
              "    }\n",
              "\n",
              "    .dataframe tbody tr th {\n",
              "        vertical-align: top;\n",
              "    }\n",
              "\n",
              "    .dataframe thead th {\n",
              "        text-align: right;\n",
              "    }\n",
              "</style>\n",
              "<table border=\"1\" class=\"dataframe\">\n",
              "  <thead>\n",
              "    <tr style=\"text-align: right;\">\n",
              "      <th></th>\n",
              "      <th>sepal_length</th>\n",
              "      <th>sepal_width</th>\n",
              "      <th>petal_length</th>\n",
              "      <th>petal_width</th>\n",
              "      <th>species</th>\n",
              "    </tr>\n",
              "  </thead>\n",
              "  <tbody>\n",
              "    <tr>\n",
              "      <th>107</th>\n",
              "      <td>7.3</td>\n",
              "      <td>2.9</td>\n",
              "      <td>6.3</td>\n",
              "      <td>1.8</td>\n",
              "      <td>virginica</td>\n",
              "    </tr>\n",
              "    <tr>\n",
              "      <th>130</th>\n",
              "      <td>7.4</td>\n",
              "      <td>2.8</td>\n",
              "      <td>6.1</td>\n",
              "      <td>1.9</td>\n",
              "      <td>virginica</td>\n",
              "    </tr>\n",
              "  </tbody>\n",
              "</table>\n",
              "</div>"
            ],
            "text/plain": [
              "     sepal_length  sepal_width  petal_length  petal_width    species\n",
              "107           7.3          2.9           6.3          1.8  virginica\n",
              "130           7.4          2.8           6.1          1.9  virginica"
            ]
          },
          "metadata": {}
        }
      ]
    },
    {
      "cell_type": "markdown",
      "metadata": {
        "id": "cmoFHzmvXpqP"
      },
      "source": [
        "### Operations"
      ]
    },
    {
      "cell_type": "code",
      "metadata": {
        "scrolled": true,
        "id": "guwfDVRHXpqP",
        "colab": {
          "base_uri": "https://localhost:8080/",
          "height": 298
        },
        "outputId": "7cced6d4-3870-4557-8b4a-0018113011a3"
      },
      "source": [
        "display(iris.sample(n=5).apply(np.cumsum))   # Map function f to each row in sequence\n",
        "display(iris.mean())"
      ],
      "execution_count": 69,
      "outputs": [
        {
          "output_type": "display_data",
          "data": {
            "text/html": [
              "<div>\n",
              "<style scoped>\n",
              "    .dataframe tbody tr th:only-of-type {\n",
              "        vertical-align: middle;\n",
              "    }\n",
              "\n",
              "    .dataframe tbody tr th {\n",
              "        vertical-align: top;\n",
              "    }\n",
              "\n",
              "    .dataframe thead th {\n",
              "        text-align: right;\n",
              "    }\n",
              "</style>\n",
              "<table border=\"1\" class=\"dataframe\">\n",
              "  <thead>\n",
              "    <tr style=\"text-align: right;\">\n",
              "      <th></th>\n",
              "      <th>sepal_length</th>\n",
              "      <th>sepal_width</th>\n",
              "      <th>petal_length</th>\n",
              "      <th>petal_width</th>\n",
              "      <th>species</th>\n",
              "    </tr>\n",
              "  </thead>\n",
              "  <tbody>\n",
              "    <tr>\n",
              "      <th>24</th>\n",
              "      <td>4.8</td>\n",
              "      <td>3.4</td>\n",
              "      <td>1.9</td>\n",
              "      <td>0.2</td>\n",
              "      <td>setosa</td>\n",
              "    </tr>\n",
              "    <tr>\n",
              "      <th>137</th>\n",
              "      <td>11.2</td>\n",
              "      <td>6.5</td>\n",
              "      <td>7.4</td>\n",
              "      <td>2.0</td>\n",
              "      <td>setosavirginica</td>\n",
              "    </tr>\n",
              "    <tr>\n",
              "      <th>38</th>\n",
              "      <td>15.6</td>\n",
              "      <td>9.5</td>\n",
              "      <td>8.7</td>\n",
              "      <td>2.2</td>\n",
              "      <td>setosavirginicasetosa</td>\n",
              "    </tr>\n",
              "    <tr>\n",
              "      <th>118</th>\n",
              "      <td>23.3</td>\n",
              "      <td>12.1</td>\n",
              "      <td>15.6</td>\n",
              "      <td>4.5</td>\n",
              "      <td>setosavirginicasetosavirginica</td>\n",
              "    </tr>\n",
              "    <tr>\n",
              "      <th>111</th>\n",
              "      <td>29.7</td>\n",
              "      <td>14.8</td>\n",
              "      <td>20.9</td>\n",
              "      <td>6.4</td>\n",
              "      <td>setosavirginicasetosavirginicavirginica</td>\n",
              "    </tr>\n",
              "  </tbody>\n",
              "</table>\n",
              "</div>"
            ],
            "text/plain": [
              "     sepal_length  ...                                  species\n",
              "24            4.8  ...                                   setosa\n",
              "137          11.2  ...                          setosavirginica\n",
              "38           15.6  ...                    setosavirginicasetosa\n",
              "118          23.3  ...           setosavirginicasetosavirginica\n",
              "111          29.7  ...  setosavirginicasetosavirginicavirginica\n",
              "\n",
              "[5 rows x 5 columns]"
            ]
          },
          "metadata": {}
        },
        {
          "output_type": "display_data",
          "data": {
            "text/plain": [
              "sepal_length    5.843333\n",
              "sepal_width     3.054000\n",
              "petal_length    3.758667\n",
              "petal_width     1.198667\n",
              "dtype: float64"
            ]
          },
          "metadata": {}
        }
      ]
    },
    {
      "cell_type": "markdown",
      "metadata": {
        "id": "SSOTxXqOXpqP"
      },
      "source": [
        "# Matplotlib\n",
        "\n",
        "\"Matplotlib is a Python 2D plotting library which produces publication quality figures in a variety of hardcopy formats and interactive environments across platforms.\" -[Matplotlib](https://matplotlib.org/index.html)"
      ]
    },
    {
      "cell_type": "code",
      "metadata": {
        "id": "BE-DgoGgXpqP"
      },
      "source": [
        "import matplotlib.pyplot as plt\n",
        "\n",
        "# To display plots inline, use this special Jupyter command\n",
        "%matplotlib inline"
      ],
      "execution_count": 70,
      "outputs": []
    },
    {
      "cell_type": "markdown",
      "metadata": {
        "id": "19O2OodaXpqP"
      },
      "source": [
        "### Barebones example"
      ]
    },
    {
      "cell_type": "code",
      "metadata": {
        "id": "Gh5IAsDuXpqP",
        "colab": {
          "base_uri": "https://localhost:8080/",
          "height": 265
        },
        "outputId": "915ecc91-5f6c-434d-85ba-cb3bcf133fa1"
      },
      "source": [
        "t = np.arange(0, np.pi * 3, 0.01)\n",
        "y1 = np.sin(t)\n",
        "y2 = np.cos(t)\n",
        "\n",
        "plt.plot(t, y1)\n",
        "plt.plot(t, y2)\n",
        "plt.show()"
      ],
      "execution_count": 71,
      "outputs": [
        {
          "output_type": "display_data",
          "data": {
            "image/png": "[encoded data removed]",
            "text/plain": [
              "<Figure size 432x288 with 1 Axes>"
            ]
          },
          "metadata": {
            "needs_background": "light"
          }
        }
      ]
    },
    {
      "cell_type": "markdown",
      "metadata": {
        "id": "58fhOlL5XpqQ"
      },
      "source": [
        "### Let's beautify this"
      ]
    },
    {
      "cell_type": "code",
      "metadata": {
        "id": "xg5S00h7XpqQ",
        "colab": {
          "base_uri": "https://localhost:8080/",
          "height": 302
        },
        "outputId": "d2e82d16-fc5b-4582-b79b-9b96eddaf12b"
      },
      "source": [
        "fig, ax = plt.subplots(nrows=1, ncols=1)\n",
        "\n",
        "# Plot them\n",
        "ax.plot(t, y1, label='$\\sin(x)$', linewidth=3.0)\n",
        "ax.plot(t, y2, label='$\\cos(x)$', linewidth=3.0)\n",
        "\n",
        "# Set the title (shown above the plot)\n",
        "ax.set_title('Sine and Cosine functions', fontsize=16)\n",
        "\n",
        "# Mark axes\n",
        "ax.set_xlabel('$x$', fontsize=16)\n",
        "ax.set_ylabel('$f(x)$', fontsize=16)\n",
        "\n",
        "# Legend\n",
        "ax.legend(loc='best', fancybox=True, framealpha=0.5, fontsize=16)\n",
        "\n",
        "# Grid\n",
        "ax.grid(True)\n",
        "\n",
        "plt.show()"
      ],
      "execution_count": 72,
      "outputs": [
        {
          "output_type": "display_data",
          "data": {
            "image/png": "[encoded data removed]",
            "text/plain": [
              "<Figure size 432x288 with 1 Axes>"
            ]
          },
          "metadata": {
            "needs_background": "light"
          }
        }
      ]
    },
    {
      "cell_type": "markdown",
      "metadata": {
        "id": "5yW_abRXXpqQ"
      },
      "source": [
        "Another helpful library to clean-up your plots is [Seaborn](). This can be installed via `conda install seaborn` (make sure you've activated your environment before executing this command).\n",
        "\n",
        "With this library installed, you can simply import it and set the style. The library will take plotting, setting the fontsizes, etc."
      ]
    },
    {
      "cell_type": "code",
      "metadata": {
        "id": "00CqDfVsXpqQ",
        "colab": {
          "base_uri": "https://localhost:8080/",
          "height": 301
        },
        "outputId": "e56d2bd0-93ab-4c3b-de52-8db44ac56672"
      },
      "source": [
        "import seaborn as sns\n",
        "sns.set_theme()\n",
        "\n",
        "fig, ax = plt.subplots(nrows=1, ncols=1)\n",
        "\n",
        "# Plot them\n",
        "ax.plot(t, y1, label='$\\sin(x)$', linewidth=3.0)\n",
        "ax.plot(t, y2, label='$\\cos(x)$', linewidth=3.0)\n",
        "\n",
        "# Set the title (shown above the plot)\n",
        "ax.set_title('Sine and Cosine functions')\n",
        "\n",
        "# Mark axes\n",
        "ax.set_xlabel('$x$')\n",
        "ax.set_ylabel('$f(x)$')\n",
        "\n",
        "# Legend\n",
        "ax.legend()\n",
        "\n",
        "plt.show()\n",
        "\n",
        "sns.reset_orig()   # Seaborn always overrides plotting styles. This \"unsets\" seaborn from doing it."
      ],
      "execution_count": 73,
      "outputs": [
        {
          "output_type": "display_data",
          "data": {
            "image/png": "[encoded data removed]",
            "text/plain": [
              "<Figure size 432x288 with 1 Axes>"
            ]
          },
          "metadata": {}
        }
      ]
    },
    {
      "cell_type": "markdown",
      "metadata": {
        "id": "ZajEUIyOXpqQ"
      },
      "source": [
        "## Subplots\n",
        "\n",
        "When you want to display multiple plots simultaneously"
      ]
    },
    {
      "cell_type": "code",
      "metadata": {
        "id": "TbMDKpfJXpqQ",
        "colab": {
          "base_uri": "https://localhost:8080/",
          "height": 441
        },
        "outputId": "93377e4c-48a6-4983-b227-fbcec23b2bb2"
      },
      "source": [
        "dt = 0.01\n",
        "t = np.arange(0, 30, dt)\n",
        "nse1 = np.random.randn(len(t))                 # white noise 1\n",
        "nse2 = np.random.randn(len(t))                 # white noise 2\n",
        "\n",
        "# Two signals with a coherent part at 10Hz and a random part\n",
        "s1 = np.sin(2 * np.pi * 10 * t) + nse1\n",
        "s2 = np.sin(2 * np.pi * 10 * t) + nse2\n",
        "\n",
        "fig, axs = plt.subplots(2, 1, figsize=(10.0, 6.0))\n",
        "# axs is an array. axs[0] = top-plot, axs[1] = bottom-plot\n",
        "\n",
        "# plotting on top\n",
        "axs[0].plot(t, s1, t, s2)\n",
        "axs[0].set_xlim(0, 2)\n",
        "axs[0].set_xlabel('time', fontsize=16)\n",
        "axs[0].set_ylabel('s1 and s2', fontsize=16)\n",
        "axs[0].grid(True)\n",
        "\n",
        "# plotting on bottom\n",
        "cxy, f = axs[1].cohere(s1, s2, 256, 1. / dt)\n",
        "axs[1].set_xlabel('frequency', fontsize=16)\n",
        "axs[1].set_ylabel('coherence', fontsize=16)\n",
        "\n",
        "fig.tight_layout()\n",
        "plt.show()"
      ],
      "execution_count": 74,
      "outputs": [
        {
          "output_type": "display_data",
          "data": {
            "image/png": "[encoded data removed]",
            "text/plain": [
              "<Figure size 720x432 with 2 Axes>"
            ]
          },
          "metadata": {
            "needs_background": "light"
          }
        }
      ]
    },
    {
      "cell_type": "markdown",
      "metadata": {
        "id": "KD54b66AXpqQ"
      },
      "source": [
        "## Scatter plots"
      ]
    },
    {
      "cell_type": "code",
      "metadata": {
        "scrolled": true,
        "id": "T7wdxsF-XpqR",
        "colab": {
          "base_uri": "https://localhost:8080/",
          "height": 424
        },
        "outputId": "b68730c2-faaa-4ba6-d589-8c51a8345a94"
      },
      "source": [
        "iris"
      ],
      "execution_count": 75,
      "outputs": [
        {
          "output_type": "execute_result",
          "data": {
            "text/html": [
              "<div>\n",
              "<style scoped>\n",
              "    .dataframe tbody tr th:only-of-type {\n",
              "        vertical-align: middle;\n",
              "    }\n",
              "\n",
              "    .dataframe tbody tr th {\n",
              "        vertical-align: top;\n",
              "    }\n",
              "\n",
              "    .dataframe thead th {\n",
              "        text-align: right;\n",
              "    }\n",
              "</style>\n",
              "<table border=\"1\" class=\"dataframe\">\n",
              "  <thead>\n",
              "    <tr style=\"text-align: right;\">\n",
              "      <th></th>\n",
              "      <th>sepal_length</th>\n",
              "      <th>sepal_width</th>\n",
              "      <th>petal_length</th>\n",
              "      <th>petal_width</th>\n",
              "      <th>species</th>\n",
              "    </tr>\n",
              "  </thead>\n",
              "  <tbody>\n",
              "    <tr>\n",
              "      <th>0</th>\n",
              "      <td>5.1</td>\n",
              "      <td>3.5</td>\n",
              "      <td>1.4</td>\n",
              "      <td>0.2</td>\n",
              "      <td>setosa</td>\n",
              "    </tr>\n",
              "    <tr>\n",
              "      <th>1</th>\n",
              "      <td>4.9</td>\n",
              "      <td>3.0</td>\n",
              "      <td>1.4</td>\n",
              "      <td>0.2</td>\n",
              "      <td>setosa</td>\n",
              "    </tr>\n",
              "    <tr>\n",
              "      <th>2</th>\n",
              "      <td>4.7</td>\n",
              "      <td>3.2</td>\n",
              "      <td>1.3</td>\n",
              "      <td>0.2</td>\n",
              "      <td>setosa</td>\n",
              "    </tr>\n",
              "    <tr>\n",
              "      <th>3</th>\n",
              "      <td>4.6</td>\n",
              "      <td>3.1</td>\n",
              "      <td>1.5</td>\n",
              "      <td>0.2</td>\n",
              "      <td>setosa</td>\n",
              "    </tr>\n",
              "    <tr>\n",
              "      <th>4</th>\n",
              "      <td>5.0</td>\n",
              "      <td>3.6</td>\n",
              "      <td>1.4</td>\n",
              "      <td>0.2</td>\n",
              "      <td>setosa</td>\n",
              "    </tr>\n",
              "    <tr>\n",
              "      <th>...</th>\n",
              "      <td>...</td>\n",
              "      <td>...</td>\n",
              "      <td>...</td>\n",
              "      <td>...</td>\n",
              "      <td>...</td>\n",
              "    </tr>\n",
              "    <tr>\n",
              "      <th>145</th>\n",
              "      <td>6.7</td>\n",
              "      <td>3.0</td>\n",
              "      <td>5.2</td>\n",
              "      <td>2.3</td>\n",
              "      <td>virginica</td>\n",
              "    </tr>\n",
              "    <tr>\n",
              "      <th>146</th>\n",
              "      <td>6.3</td>\n",
              "      <td>2.5</td>\n",
              "      <td>5.0</td>\n",
              "      <td>1.9</td>\n",
              "      <td>virginica</td>\n",
              "    </tr>\n",
              "    <tr>\n",
              "      <th>147</th>\n",
              "      <td>6.5</td>\n",
              "      <td>3.0</td>\n",
              "      <td>5.2</td>\n",
              "      <td>2.0</td>\n",
              "      <td>virginica</td>\n",
              "    </tr>\n",
              "    <tr>\n",
              "      <th>148</th>\n",
              "      <td>6.2</td>\n",
              "      <td>3.4</td>\n",
              "      <td>5.4</td>\n",
              "      <td>2.3</td>\n",
              "      <td>virginica</td>\n",
              "    </tr>\n",
              "    <tr>\n",
              "      <th>149</th>\n",
              "      <td>5.9</td>\n",
              "      <td>3.0</td>\n",
              "      <td>5.1</td>\n",
              "      <td>1.8</td>\n",
              "      <td>virginica</td>\n",
              "    </tr>\n",
              "  </tbody>\n",
              "</table>\n",
              "<p>150 rows × 5 columns</p>\n",
              "</div>"
            ],
            "text/plain": [
              "     sepal_length  sepal_width  petal_length  petal_width    species\n",
              "0             5.1          3.5           1.4          0.2     setosa\n",
              "1             4.9          3.0           1.4          0.2     setosa\n",
              "2             4.7          3.2           1.3          0.2     setosa\n",
              "3             4.6          3.1           1.5          0.2     setosa\n",
              "4             5.0          3.6           1.4          0.2     setosa\n",
              "..            ...          ...           ...          ...        ...\n",
              "145           6.7          3.0           5.2          2.3  virginica\n",
              "146           6.3          2.5           5.0          1.9  virginica\n",
              "147           6.5          3.0           5.2          2.0  virginica\n",
              "148           6.2          3.4           5.4          2.3  virginica\n",
              "149           5.9          3.0           5.1          1.8  virginica\n",
              "\n",
              "[150 rows x 5 columns]"
            ]
          },
          "metadata": {},
          "execution_count": 75
        }
      ]
    },
    {
      "cell_type": "code",
      "metadata": {
        "id": "433IfY0VXpqR",
        "colab": {
          "base_uri": "https://localhost:8080/",
          "height": 358
        },
        "outputId": "ffb4ac67-3490-4c5f-fdda-0ebd202c02f6"
      },
      "source": [
        "x_label = 'sepal_length'\n",
        "y_label = 'sepal_width'\n",
        "\n",
        "fig, ax = plt.subplots(nrows=1, ncols=1, figsize=(5.0, 5.0))\n",
        "\n",
        "for spec in ['setosa', 'versicolor', 'virginica']:\n",
        "    df = iris[iris['species'] == spec]\n",
        "    ax.scatter(df[x_label], df[y_label], label=spec)\n",
        "\n",
        "# Set the title (shown above the plot)\n",
        "ax.set_title('Iris dataset', fontsize=16)\n",
        "\n",
        "# Mark axes\n",
        "ax.set_xlabel(x_label, fontsize=16)\n",
        "ax.set_ylabel(y_label, fontsize=16)\n",
        "\n",
        "# Legend\n",
        "ax.legend(loc='best', fancybox=True, framealpha=0.5, fontsize=16)\n",
        "\n",
        "# Grid\n",
        "ax.grid()\n",
        "\n",
        "plt.show()"
      ],
      "execution_count": 76,
      "outputs": [
        {
          "output_type": "display_data",
          "data": {
            "image/png": "[encoded data removed]",
            "text/plain": [
              "<Figure size 360x360 with 1 Axes>"
            ]
          },
          "metadata": {
            "needs_background": "light"
          }
        }
      ]
    },
    {
      "cell_type": "code",
      "metadata": {
        "id": "FdatpANgHuHc"
      },
      "source": [
        ""
      ],
      "execution_count": 76,
      "outputs": []
    }
  ]
}